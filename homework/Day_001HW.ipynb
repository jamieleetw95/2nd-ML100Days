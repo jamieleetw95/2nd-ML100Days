{
  "nbformat": 4,
  "nbformat_minor": 0,
  "metadata": {
    "colab": {
      "name": "Day_001HW.ipynb",
      "version": "0.3.2",
      "provenance": []
    },
    "kernelspec": {
      "name": "python3",
      "display_name": "Python 3"
    }
  },
  "cells": [
    {
      "metadata": {
        "id": "C_6bgF-sg5ku",
        "colab_type": "text"
      },
      "cell_type": "markdown",
      "source": [
        "沒看懂第一題要寫啥，所以先放個空檔"
      ]
    }
  ]
}