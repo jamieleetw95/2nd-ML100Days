{
 "cells": [
  {
   "cell_type": "markdown",
   "metadata": {},
   "source": [
    "## Work\n",
    "1. 請將 Epoch 加到 500 個，並觀察 learning curve 的走勢\n",
    "2. 請將 Optimizer 換成 SGD，並觀察 learning curve 的走勢"
   ]
  },
  {
   "cell_type": "code",
   "execution_count": 4,
   "metadata": {},
   "outputs": [],
   "source": [
    "import os\n",
    "import keras\n",
    "\n",
    "# 本作業可以不需使用 GPU, 將 GPU 設定為 \"無\" (若有 GPU 且想開啟，可設為 \"0\")\n",
    "os.environ[\"CUDA_VISIBLE_DEVICES\"] = \"0\""
   ]
  },
  {
   "cell_type": "code",
   "execution_count": 2,
   "metadata": {},
   "outputs": [],
   "source": [
    "# 從 Keras 的內建功能中，取得 train 與 test 資料集\n",
    "train, test = keras.datasets.cifar10.load_data()"
   ]
  },
  {
   "cell_type": "code",
   "execution_count": 3,
   "metadata": {},
   "outputs": [],
   "source": [
    "# 將 X 與 Y 獨立放進變數\n",
    "x_train, y_train = train\n",
    "x_test, y_test = test\n",
    "# 資料前處理 - 標準化\n",
    "x_train = x_train / 255.\n",
    "x_test = x_test / 255.\n",
    "\n",
    "# 將資料從圖形 (RGB) 轉為向量 (Single Vector)\n",
    "x_train = x_train.reshape((len(x_train), -1))\n",
    "x_test = x_test.reshape((len(x_test), -1))\n",
    "\n",
    "# 將目標轉為 one-hot encoding\n",
    "y_train = keras.utils.to_categorical(y_train, num_classes=10)\n",
    "y_test = keras.utils.to_categorical(y_test, num_classes=10)"
   ]
  },
  {
   "cell_type": "code",
   "execution_count": 5,
   "metadata": {},
   "outputs": [
    {
     "name": "stdout",
     "output_type": "stream",
     "text": [
      "WARNING:tensorflow:From C:\\Users\\jamie\\Anaconda3\\lib\\site-packages\\tensorflow\\python\\framework\\op_def_library.py:263: colocate_with (from tensorflow.python.framework.ops) is deprecated and will be removed in a future version.\n",
      "Instructions for updating:\n",
      "Colocations handled automatically by placer.\n"
     ]
    }
   ],
   "source": [
    "def build_mlp():\n",
    "    \"\"\"Code Here\n",
    "    建立你的神經網路\n",
    "    \"\"\"\n",
    "    input_layer = keras.layers.Input([x_train.shape[-1]])\n",
    "    x = keras.layers.Dense(units=512, activation=\"relu\")(input_layer)\n",
    "    x = keras.layers.Dense(units=256, activation=\"relu\")(x)\n",
    "    x = keras.layers.Dense(units=128, activation=\"relu\")(x)\n",
    "    out = keras.layers.Dense(units=10, activation=\"softmax\")(x)\n",
    "    \n",
    "    model = keras.models.Model(inputs=[input_layer], outputs=[out])\n",
    "\n",
    "    return model\n",
    "model = build_mlp()"
   ]
  },
  {
   "cell_type": "code",
   "execution_count": 11,
   "metadata": {},
   "outputs": [
    {
     "name": "stdout",
     "output_type": "stream",
     "text": [
      "_________________________________________________________________\n",
      "Layer (type)                 Output Shape              Param #   \n",
      "=================================================================\n",
      "input_1 (InputLayer)         (None, 3072)              0         \n",
      "_________________________________________________________________\n",
      "dense_1 (Dense)              (None, 512)               1573376   \n",
      "_________________________________________________________________\n",
      "dense_2 (Dense)              (None, 256)               131328    \n",
      "_________________________________________________________________\n",
      "dense_3 (Dense)              (None, 128)               32896     \n",
      "_________________________________________________________________\n",
      "dense_4 (Dense)              (None, 10)                1290      \n",
      "=================================================================\n",
      "Total params: 1,738,890\n",
      "Trainable params: 1,738,890\n",
      "Non-trainable params: 0\n",
      "_________________________________________________________________\n"
     ]
    }
   ],
   "source": [
    "\"\"\"\n",
    "Compile 模型\n",
    "\"\"\"\n",
    "model.summary()\n",
    "\n",
    "from keras import optimizers\n",
    "optimizer = optimizers.SGD(lr=0.01, decay=1e-6, momentum=0.9, nesterov=True)\n",
    "model.compile(loss=\"categorical_crossentropy\", metrics=[\"accuracy\"], optimizer=optimizer)"
   ]
  },
  {
   "cell_type": "code",
   "execution_count": null,
   "metadata": {
    "scrolled": true
   },
   "outputs": [
    {
     "name": "stdout",
     "output_type": "stream",
     "text": [
      "WARNING:tensorflow:From C:\\Users\\jamie\\Anaconda3\\lib\\site-packages\\tensorflow\\python\\ops\\math_ops.py:3066: to_int32 (from tensorflow.python.ops.math_ops) is deprecated and will be removed in a future version.\n",
      "Instructions for updating:\n",
      "Use tf.cast instead.\n",
      "Train on 50000 samples, validate on 10000 samples\n",
      "Epoch 1/500\n",
      "50000/50000 [==============================] - 12s 245us/step - loss: 1.8648 - acc: 0.3333 - val_loss: 1.6921 - val_acc: 0.3977\n",
      "Epoch 2/500\n",
      "50000/50000 [==============================] - 11s 212us/step - loss: 1.6486 - acc: 0.4173 - val_loss: 1.8535 - val_acc: 0.3726\n",
      "Epoch 3/500\n",
      "50000/50000 [==============================] - 11s 215us/step - loss: 1.5632 - acc: 0.4452 - val_loss: 1.5146 - val_acc: 0.4649\n",
      "Epoch 4/500\n",
      "50000/50000 [==============================] - 11s 221us/step - loss: 1.4938 - acc: 0.4686 - val_loss: 1.5013 - val_acc: 0.4636\n",
      "Epoch 5/500\n",
      "50000/50000 [==============================] - 11s 220us/step - loss: 1.4394 - acc: 0.4905 - val_loss: 1.5598 - val_acc: 0.4418\n",
      "Epoch 6/500\n",
      "50000/50000 [==============================] - 11s 219us/step - loss: 1.3994 - acc: 0.5047 - val_loss: 1.6139 - val_acc: 0.4173\n",
      "Epoch 7/500\n",
      "50000/50000 [==============================] - 11s 221us/step - loss: 1.3701 - acc: 0.5150 - val_loss: 1.4759 - val_acc: 0.4730\n",
      "Epoch 8/500\n",
      "50000/50000 [==============================] - 11s 220us/step - loss: 1.3311 - acc: 0.5289 - val_loss: 1.4101 - val_acc: 0.4967\n",
      "Epoch 9/500\n",
      "50000/50000 [==============================] - 11s 221us/step - loss: 1.3004 - acc: 0.5394 - val_loss: 1.5514 - val_acc: 0.4521\n",
      "Epoch 10/500\n",
      "50000/50000 [==============================] - 11s 218us/step - loss: 1.2691 - acc: 0.5493 - val_loss: 1.4088 - val_acc: 0.4987\n",
      "Epoch 11/500\n",
      "50000/50000 [==============================] - 11s 217us/step - loss: 1.2437 - acc: 0.5594 - val_loss: 1.3792 - val_acc: 0.5106\n",
      "Epoch 12/500\n",
      "50000/50000 [==============================] - 11s 219us/step - loss: 1.2133 - acc: 0.5711 - val_loss: 1.3533 - val_acc: 0.5236\n",
      "Epoch 13/500\n",
      "50000/50000 [==============================] - 11s 218us/step - loss: 1.1905 - acc: 0.5783 - val_loss: 1.3719 - val_acc: 0.5139\n",
      "Epoch 14/500\n",
      "50000/50000 [==============================] - 11s 220us/step - loss: 1.1637 - acc: 0.5900 - val_loss: 1.3286 - val_acc: 0.5373\n",
      "Epoch 15/500\n",
      "50000/50000 [==============================] - 11s 218us/step - loss: 1.1416 - acc: 0.5961 - val_loss: 1.3430 - val_acc: 0.5314\n",
      "Epoch 16/500\n",
      "50000/50000 [==============================] - 11s 218us/step - loss: 1.1182 - acc: 0.6024 - val_loss: 1.3903 - val_acc: 0.5192\n",
      "Epoch 17/500\n",
      "50000/50000 [==============================] - 11s 219us/step - loss: 1.0954 - acc: 0.6131 - val_loss: 1.3640 - val_acc: 0.5211\n",
      "Epoch 18/500\n",
      "50000/50000 [==============================] - 11s 219us/step - loss: 1.0770 - acc: 0.6203 - val_loss: 1.3455 - val_acc: 0.5359\n",
      "Epoch 19/500\n",
      "50000/50000 [==============================] - 11s 218us/step - loss: 1.0497 - acc: 0.6280 - val_loss: 1.3890 - val_acc: 0.5264\n",
      "Epoch 20/500\n",
      "50000/50000 [==============================] - 11s 218us/step - loss: 1.0251 - acc: 0.6369 - val_loss: 1.4203 - val_acc: 0.5225\n",
      "Epoch 21/500\n",
      "50000/50000 [==============================] - 11s 217us/step - loss: 1.0001 - acc: 0.6431 - val_loss: 1.3659 - val_acc: 0.5329\n",
      "Epoch 22/500\n",
      "50000/50000 [==============================] - 11s 214us/step - loss: 0.9797 - acc: 0.6532 - val_loss: 1.4300 - val_acc: 0.5242\n",
      "Epoch 23/500\n",
      "50000/50000 [==============================] - 11s 214us/step - loss: 0.9604 - acc: 0.6589 - val_loss: 1.5201 - val_acc: 0.5066\n",
      "Epoch 24/500\n",
      "50000/50000 [==============================] - 11s 214us/step - loss: 0.9350 - acc: 0.6694 - val_loss: 1.3720 - val_acc: 0.5352\n",
      "Epoch 25/500\n",
      "50000/50000 [==============================] - 11s 211us/step - loss: 0.9122 - acc: 0.6779 - val_loss: 1.4192 - val_acc: 0.5247\n",
      "Epoch 26/500\n",
      "50000/50000 [==============================] - 11s 213us/step - loss: 0.8858 - acc: 0.6869 - val_loss: 1.4912 - val_acc: 0.5102\n",
      "Epoch 27/500\n",
      "50000/50000 [==============================] - 11s 212us/step - loss: 0.8679 - acc: 0.6906 - val_loss: 1.6128 - val_acc: 0.4909\n",
      "Epoch 28/500\n",
      " 9984/50000 [====>.........................] - ETA: 7s - loss: 0.8452 - acc: 0.7000"
     ]
    }
   ],
   "source": [
    "\"\"\"\n",
    "設定要訓練的 Epoch 數\n",
    "\"\"\"\n",
    "model.fit(x_train, y_train, \n",
    "          epochs=500, \n",
    "          batch_size=256, \n",
    "          validation_data=(x_test, y_test), \n",
    "          shuffle=True)"
   ]
  },
  {
   "cell_type": "code",
   "execution_count": null,
   "metadata": {},
   "outputs": [],
   "source": [
    "import matplotlib.pyplot as plt\n",
    "# 以視覺畫方式檢視訓練過程\n",
    "\n",
    "train_loss = model.history.history[\"loss\"]\n",
    "valid_loss = model.history.history[\"val_loss\"]\n",
    "\n",
    "train_acc = model.history.history[\"acc\"]\n",
    "valid_acc = model.history.history[\"val_acc\"]\n",
    "\n",
    "plt.plot(range(len(train_loss)), train_loss, label=\"train loss\")\n",
    "plt.plot(range(len(valid_loss)), valid_loss, label=\"valid loss\")\n",
    "plt.legend()\n",
    "plt.title(\"Loss\")\n",
    "plt.show()\n",
    "\n",
    "plt.plot(range(len(train_acc)), train_acc, label=\"train accuracy\")\n",
    "plt.plot(range(len(valid_acc)), valid_acc, label=\"valid accuracy\")\n",
    "plt.legend()\n",
    "plt.title(\"Accuracy\")\n",
    "plt.show()"
   ]
  },
  {
   "cell_type": "code",
   "execution_count": null,
   "metadata": {},
   "outputs": [],
   "source": []
  },
  {
   "cell_type": "code",
   "execution_count": null,
   "metadata": {},
   "outputs": [],
   "source": []
  }
 ],
 "metadata": {
  "kernelspec": {
   "display_name": "Python 3",
   "language": "python",
   "name": "python3"
  },
  "language_info": {
   "codemirror_mode": {
    "name": "ipython",
    "version": 3
   },
   "file_extension": ".py",
   "mimetype": "text/x-python",
   "name": "python",
   "nbconvert_exporter": "python",
   "pygments_lexer": "ipython3",
   "version": "3.6.8"
  }
 },
 "nbformat": 4,
 "nbformat_minor": 2
}
