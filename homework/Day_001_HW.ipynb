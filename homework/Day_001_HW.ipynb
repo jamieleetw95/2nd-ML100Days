{
  "nbformat": 4,
  "nbformat_minor": 0,
  "metadata": {
    "colab": {
      "name": "Day_001_HW (1).ipynb",
      "version": "0.3.2",
      "provenance": []
    },
    "language_info": {
      "codemirror_mode": {
        "name": "ipython",
        "version": 3
      },
      "file_extension": ".py",
      "mimetype": "text/x-python",
      "name": "python",
      "nbconvert_exporter": "python",
      "pygments_lexer": "ipython3",
      "version": "3.5.6"
    },
    "kernelspec": {
      "display_name": "Python [default]",
      "language": "python",
      "name": "python3"
    }
  },
  "cells": [
    {
      "metadata": {
        "id": "0x1tKfIBQl4Z",
        "colab_type": "text"
      },
      "cell_type": "markdown",
      "source": [
        "作業1：\n",
        "\n",
        "請上 Kaggle, 在 Competitions 或 Dataset 中找一組競賽或資料並寫下：\n",
        "\n",
        "你選的這組資料為何重要\n",
        "> \n",
        "Ans：\n",
        "*   資料：[ How Much Did It Rain? II](https://www.kaggle.com/c/how-much-did-it-rain-ii) +  各地區政府排水系統資料\n",
        "*   原因：可以提供防災預警，對世界有貢獻\n",
        "\n",
        "資料從何而來 (tips: 譬如提供者是誰、以什麼方式蒐集)\n",
        "> \n",
        "Ans：\n",
        "*   資料來源：各個地區的氣象局 + 各地區政府\n",
        "*   收集方式：爬蟲程式or串接氣象局或政府的API\n",
        "\n",
        "蒐集而來的資料型態為何\n",
        "> \n",
        "Ans：數值\n",
        "\n",
        "這組資料想解決的問題如何評估\n",
        "> \n",
        "Ans：\n",
        "*   評估指標：准确率（Accuracy）\n",
        "*   原因：我們衡量標準用的問題是「是否會超過臨界值」，結果只有會or不會，只有機會超出臨界值，就應要發出警報"
      ]
    },
    {
      "metadata": {
        "id": "bA-AJzxuQq-H",
        "colab_type": "text"
      },
      "cell_type": "markdown",
      "source": [
        "作業2：\n",
        "\n",
        "想像你經營一個自由載客車隊，你希望能透過數據分析以提升業績，請你思考並描述你如何規劃整體的分析/解決方案：\n",
        "\n",
        "核心問題為何 (tips：如何定義 「提升業績 & 你的假設」)\n",
        "> \n",
        "Ans：如何從「熟客轉換率高」的司機身上，找出真正有影響的條件，讓轉換率低的司機能針對那些條件做改進\n",
        "*   註. 熟客轉換率：即搭過第一次之後，之後就會成為熟客，再次使用\n",
        "\n",
        "資料從何而來 (tips：哪些資料可能會對你想問的問題產生影響 & 資料如何蒐集)\n",
        "> \n",
        "Ans：\n",
        "*   影響資料：客戶評價，付款方式、各項滿意程度（車子外觀&內裝、服務速度、司機評價....\n",
        "*   收集方式：熟客、司機問卷 & 行車紀錄\n",
        "\n",
        "蒐集而來的資料型態為何\n",
        "> \n",
        "Ans：數據\n",
        "\n",
        "你要回答的問題，其如何評估 (tips：你的假設如何驗證)\n",
        "> \n",
        "Ans：\n",
        "*   評估指標：AUC\n",
        "*   原因：符合條件的司機，應該轉換率要越高"
      ]
    },
    {
      "metadata": {
        "id": "ZTwLrHwUfw7h",
        "colab_type": "text"
      },
      "cell_type": "markdown",
      "source": [
        ""
      ]
    },
    {
      "metadata": {
        "id": "F2Bf5XwuJpiG",
        "colab_type": "text"
      },
      "cell_type": "markdown",
      "source": [
        "作業3：\n",
        "## 練習時間\n",
        "#### 請寫一個函式用來計算 Mean Square Error\n",
        "$ MSE = \\frac{1}{n}\\sum_{i=1}^{n}{(Y_i - \\hat{Y}_i)^2} $\n",
        "\n",
        "### Hint: [如何取平方](https://googoodesign.gitbooks.io/-ezpython/unit-1.html)"
      ]
    },
    {
      "metadata": {
        "id": "kXnn8cTfJpiH",
        "colab_type": "code",
        "colab": {}
      },
      "cell_type": "code",
      "source": [
        "import numpy as np\n",
        "import matplotlib.pyplot as plt"
      ],
      "execution_count": 0,
      "outputs": []
    },
    {
      "metadata": {
        "id": "yjHKplq9JpiK",
        "colab_type": "code",
        "colab": {}
      },
      "cell_type": "code",
      "source": [
        "def mean_squared_error(m, n):\n",
        "    \"\"\"\n",
        "    請完成這個 Function 後往下執行\n",
        "    \"\"\"\n",
        "    return np.square(np.subtract(m, n)).mean()"
      ],
      "execution_count": 0,
      "outputs": []
    },
    {
      "metadata": {
        "id": "c_SmpUSqSjoh",
        "colab_type": "code",
        "colab": {}
      },
      "cell_type": "code",
      "source": [
        "def mean_absolute_error(m, n):\n",
        "    \"\"\"\n",
        "    請完成這個 Function 後往下執行\n",
        "    \"\"\"\n",
        "    return np.mean(np.abs(m-n))"
      ],
      "execution_count": 0,
      "outputs": []
    },
    {
      "metadata": {
        "id": "u6EzhH_nJpiN",
        "colab_type": "code",
        "outputId": "d0804d98-d3bc-44ea-93bc-3748f4cb9a98",
        "colab": {
          "base_uri": "https://localhost:8080/",
          "height": 281
        }
      },
      "cell_type": "code",
      "source": [
        "w = 3\n",
        "b = 0.5\n",
        "\n",
        "x_lin = np.linspace(0, 100, 101)\n",
        "\n",
        "y = (x_lin + np.random.randn(101) * 5) * w + b\n",
        "\n",
        "plt.plot(x_lin, y, 'b.', label = 'data points')\n",
        "plt.title(\"Assume we have data points\")\n",
        "plt.legend(loc = 2)\n",
        "plt.show()"
      ],
      "execution_count": 0,
      "outputs": [
        {
          "output_type": "display_data",
          "data": {
            "image/png": "[encoded data removed]",
            "text/plain": [
              "<Figure size 432x288 with 1 Axes>"
            ]
          },
          "metadata": {
            "tags": []
          }
        }
      ]
    },
    {
      "metadata": {
        "id": "rv-qXKxJJpiQ",
        "colab_type": "code",
        "outputId": "89f54d13-1e82-43c1-9100-41e168604e57",
        "colab": {
          "base_uri": "https://localhost:8080/",
          "height": 281
        }
      },
      "cell_type": "code",
      "source": [
        "y_hat = x_lin * w + b\n",
        "plt.plot(x_lin, y, 'b.', label = 'data')\n",
        "plt.plot(x_lin, y_hat, 'r-', label = 'prediction')\n",
        "plt.title(\"Assume we have data points (And the prediction)\")\n",
        "plt.legend(loc = 2)\n",
        "plt.show()"
      ],
      "execution_count": 0,
      "outputs": [
        {
          "output_type": "display_data",
          "data": {
            "image/png": "[encoded data removed]",
            "text/plain": [
              "<Figure size 432x288 with 1 Axes>"
            ]
          },
          "metadata": {
            "tags": []
          }
        }
      ]
    },
    {
      "metadata": {
        "id": "RHHakgLxJpiS",
        "colab_type": "code",
        "outputId": "ee5b5b96-2390-4684-9188-78d596ca7a92",
        "colab": {
          "base_uri": "https://localhost:8080/",
          "height": 51
        }
      },
      "cell_type": "code",
      "source": [
        "# 執行 Function, 確認有沒有正常執行\n",
        "MSE = mean_squared_error(y, y_hat)\n",
        "MAE = mean_absolute_error(y, y_hat)\n",
        "print(\"The Mean squared error is %.3f\" % (MSE))\n",
        "print(\"The Mean absolute error is %.3f\" % (MAE))"
      ],
      "execution_count": 0,
      "outputs": [
        {
          "output_type": "stream",
          "text": [
            "The Mean squared error is 218.328\n",
            "The Mean absolute error is 12.169\n"
          ],
          "name": "stdout"
        }
      ]
    }
  ]
}