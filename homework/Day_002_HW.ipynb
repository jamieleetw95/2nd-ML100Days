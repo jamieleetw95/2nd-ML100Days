{
 "cells": [
  {
   "cell_type": "markdown",
   "metadata": {},
   "source": [
    "## 練習時間\n",
    "資料的操作有很多，接下來的馬拉松中我們會介紹常被使用到的操作，參加者不妨先自行想像一下，第一次看到資料，我們一般會想知道什麼訊息？\n",
    "\n",
    "#### Ex: 如何知道資料的 row 數以及 column 數、有什麼欄位、多少欄位、如何截取部分的資料等等\n",
    "\n",
    "有了對資料的好奇之後，我們又怎麼通過程式碼來達成我們的目的呢？\n",
    "\n",
    "#### 可參考該[基礎教材](https://bookdata.readthedocs.io/en/latest/base/01_pandas.html#DataFrame-%E5%85%A5%E9%97%A8)或自行 google"
   ]
  },
  {
   "cell_type": "code",
   "execution_count": 46,
   "metadata": {},
   "outputs": [],
   "source": [
    "import os\n",
    "import numpy as np\n",
    "import pandas as pd"
   ]
  },
  {
   "cell_type": "code",
   "execution_count": 47,
   "metadata": {},
   "outputs": [],
   "source": [
    "# 設定 data_path\n",
    "dir_data = './data/'"
   ]
  },
  {
   "cell_type": "code",
   "execution_count": 48,
   "metadata": {},
   "outputs": [
    {
     "name": "stdout",
     "output_type": "stream",
     "text": [
      "Path of read in data: ./data/application_train.csv\n"
     ]
    }
   ],
   "source": [
    "f_app = os.path.join(dir_data, 'application_train.csv')\n",
    "print('Path of read in data: %s' % (f_app))"
   ]
  },
  {
   "cell_type": "code",
   "execution_count": 49,
   "metadata": {},
   "outputs": [
    {
     "name": "stdout",
     "output_type": "stream",
     "text": [
      "Path of read in data: ./data/application_train.csv\n"
     ]
    }
   ],
   "source": [
    "f_app = os.path.join(dir_data, 'application_train.csv')\n",
    "print('Path of read in data: %s' % (f_app))\n",
    "app_train = pd.read_csv(f_app)"
   ]
  },
  {
   "cell_type": "markdown",
   "metadata": {},
   "source": [
    "### 如果沒有想法，可以先嘗試找出剛剛例子中提到的問題的答案\n",
    "#### 資料的 row 數以及 column 數"
   ]
  },
  {
   "cell_type": "code",
   "execution_count": 50,
   "metadata": {},
   "outputs": [
    {
     "data": {
      "text/plain": [
       "307511"
      ]
     },
     "execution_count": 50,
     "metadata": {},
     "output_type": "execute_result"
    }
   ],
   "source": [
    "#rowCnt\n",
    "app_train.shape[0]"
   ]
  },
  {
   "cell_type": "code",
   "execution_count": 51,
   "metadata": {},
   "outputs": [
    {
     "data": {
      "text/plain": [
       "122"
      ]
     },
     "execution_count": 51,
     "metadata": {},
     "output_type": "execute_result"
    }
   ],
   "source": [
    "#columnCnt\n",
    "app_train.shape[1]"
   ]
  },
  {
   "cell_type": "markdown",
   "metadata": {},
   "source": [
    "#### 列出所有欄位"
   ]
  },
  {
   "cell_type": "code",
   "execution_count": 67,
   "metadata": {},
   "outputs": [
    {
     "data": {
      "text/plain": [
       "['SK_ID_CURR',\n",
       " 'TARGET',\n",
       " 'NAME_CONTRACT_TYPE',\n",
       " 'CODE_GENDER',\n",
       " 'FLAG_OWN_CAR',\n",
       " 'FLAG_OWN_REALTY',\n",
       " 'CNT_CHILDREN',\n",
       " 'AMT_INCOME_TOTAL',\n",
       " 'AMT_CREDIT',\n",
       " 'AMT_ANNUITY',\n",
       " 'AMT_GOODS_PRICE',\n",
       " 'NAME_TYPE_SUITE',\n",
       " 'NAME_INCOME_TYPE',\n",
       " 'NAME_EDUCATION_TYPE',\n",
       " 'NAME_FAMILY_STATUS',\n",
       " 'NAME_HOUSING_TYPE',\n",
       " 'REGION_POPULATION_RELATIVE',\n",
       " 'DAYS_BIRTH',\n",
       " 'DAYS_EMPLOYED',\n",
       " 'DAYS_REGISTRATION',\n",
       " 'DAYS_ID_PUBLISH',\n",
       " 'OWN_CAR_AGE',\n",
       " 'FLAG_MOBIL',\n",
       " 'FLAG_EMP_PHONE',\n",
       " 'FLAG_WORK_PHONE',\n",
       " 'FLAG_CONT_MOBILE',\n",
       " 'FLAG_PHONE',\n",
       " 'FLAG_EMAIL',\n",
       " 'OCCUPATION_TYPE',\n",
       " 'CNT_FAM_MEMBERS',\n",
       " 'REGION_RATING_CLIENT',\n",
       " 'REGION_RATING_CLIENT_W_CITY',\n",
       " 'WEEKDAY_APPR_PROCESS_START',\n",
       " 'HOUR_APPR_PROCESS_START',\n",
       " 'REG_REGION_NOT_LIVE_REGION',\n",
       " 'REG_REGION_NOT_WORK_REGION',\n",
       " 'LIVE_REGION_NOT_WORK_REGION',\n",
       " 'REG_CITY_NOT_LIVE_CITY',\n",
       " 'REG_CITY_NOT_WORK_CITY',\n",
       " 'LIVE_CITY_NOT_WORK_CITY',\n",
       " 'ORGANIZATION_TYPE',\n",
       " 'EXT_SOURCE_1',\n",
       " 'EXT_SOURCE_2',\n",
       " 'EXT_SOURCE_3',\n",
       " 'APARTMENTS_AVG',\n",
       " 'BASEMENTAREA_AVG',\n",
       " 'YEARS_BEGINEXPLUATATION_AVG',\n",
       " 'YEARS_BUILD_AVG',\n",
       " 'COMMONAREA_AVG',\n",
       " 'ELEVATORS_AVG',\n",
       " 'ENTRANCES_AVG',\n",
       " 'FLOORSMAX_AVG',\n",
       " 'FLOORSMIN_AVG',\n",
       " 'LANDAREA_AVG',\n",
       " 'LIVINGAPARTMENTS_AVG',\n",
       " 'LIVINGAREA_AVG',\n",
       " 'NONLIVINGAPARTMENTS_AVG',\n",
       " 'NONLIVINGAREA_AVG',\n",
       " 'APARTMENTS_MODE',\n",
       " 'BASEMENTAREA_MODE',\n",
       " 'YEARS_BEGINEXPLUATATION_MODE',\n",
       " 'YEARS_BUILD_MODE',\n",
       " 'COMMONAREA_MODE',\n",
       " 'ELEVATORS_MODE',\n",
       " 'ENTRANCES_MODE',\n",
       " 'FLOORSMAX_MODE',\n",
       " 'FLOORSMIN_MODE',\n",
       " 'LANDAREA_MODE',\n",
       " 'LIVINGAPARTMENTS_MODE',\n",
       " 'LIVINGAREA_MODE',\n",
       " 'NONLIVINGAPARTMENTS_MODE',\n",
       " 'NONLIVINGAREA_MODE',\n",
       " 'APARTMENTS_MEDI',\n",
       " 'BASEMENTAREA_MEDI',\n",
       " 'YEARS_BEGINEXPLUATATION_MEDI',\n",
       " 'YEARS_BUILD_MEDI',\n",
       " 'COMMONAREA_MEDI',\n",
       " 'ELEVATORS_MEDI',\n",
       " 'ENTRANCES_MEDI',\n",
       " 'FLOORSMAX_MEDI',\n",
       " 'FLOORSMIN_MEDI',\n",
       " 'LANDAREA_MEDI',\n",
       " 'LIVINGAPARTMENTS_MEDI',\n",
       " 'LIVINGAREA_MEDI',\n",
       " 'NONLIVINGAPARTMENTS_MEDI',\n",
       " 'NONLIVINGAREA_MEDI',\n",
       " 'FONDKAPREMONT_MODE',\n",
       " 'HOUSETYPE_MODE',\n",
       " 'TOTALAREA_MODE',\n",
       " 'WALLSMATERIAL_MODE',\n",
       " 'EMERGENCYSTATE_MODE',\n",
       " 'OBS_30_CNT_SOCIAL_CIRCLE',\n",
       " 'DEF_30_CNT_SOCIAL_CIRCLE',\n",
       " 'OBS_60_CNT_SOCIAL_CIRCLE',\n",
       " 'DEF_60_CNT_SOCIAL_CIRCLE',\n",
       " 'DAYS_LAST_PHONE_CHANGE',\n",
       " 'FLAG_DOCUMENT_2',\n",
       " 'FLAG_DOCUMENT_3',\n",
       " 'FLAG_DOCUMENT_4',\n",
       " 'FLAG_DOCUMENT_5',\n",
       " 'FLAG_DOCUMENT_6',\n",
       " 'FLAG_DOCUMENT_7',\n",
       " 'FLAG_DOCUMENT_8',\n",
       " 'FLAG_DOCUMENT_9',\n",
       " 'FLAG_DOCUMENT_10',\n",
       " 'FLAG_DOCUMENT_11',\n",
       " 'FLAG_DOCUMENT_12',\n",
       " 'FLAG_DOCUMENT_13',\n",
       " 'FLAG_DOCUMENT_14',\n",
       " 'FLAG_DOCUMENT_15',\n",
       " 'FLAG_DOCUMENT_16',\n",
       " 'FLAG_DOCUMENT_17',\n",
       " 'FLAG_DOCUMENT_18',\n",
       " 'FLAG_DOCUMENT_19',\n",
       " 'FLAG_DOCUMENT_20',\n",
       " 'FLAG_DOCUMENT_21',\n",
       " 'AMT_REQ_CREDIT_BUREAU_HOUR',\n",
       " 'AMT_REQ_CREDIT_BUREAU_DAY',\n",
       " 'AMT_REQ_CREDIT_BUREAU_WEEK',\n",
       " 'AMT_REQ_CREDIT_BUREAU_MON',\n",
       " 'AMT_REQ_CREDIT_BUREAU_QRT',\n",
       " 'AMT_REQ_CREDIT_BUREAU_YEAR']"
      ]
     },
     "execution_count": 67,
     "metadata": {},
     "output_type": "execute_result"
    }
   ],
   "source": [
    "list(app_train.columns.values) "
   ]
  },
  {
   "cell_type": "markdown",
   "metadata": {},
   "source": [
    "#### 截取部分資料"
   ]
  },
  {
   "cell_type": "code",
   "execution_count": 72,
   "metadata": {},
   "outputs": [
    {
     "name": "stdout",
     "output_type": "stream",
     "text": [
      "                                               SK_ID_CURR  \\\n",
      "0       SK_ID_CURR,TARGET,NAME_CONTRACT_TYPE,CODE_GEND...   \n",
      "1                                           100002,1,Cash   \n",
      "2                                           100003,0,Cash   \n",
      "3                                      100004,0,Revolving   \n",
      "4                                           100006,0,Cash   \n",
      "5                                           100007,0,Cash   \n",
      "6                                           100008,0,Cash   \n",
      "7                                           100009,0,Cash   \n",
      "8                                           100010,0,Cash   \n",
      "9                                           100011,0,Cash   \n",
      "10                                     100012,0,Revolving   \n",
      "11                                          100014,0,Cash   \n",
      "12                                          100015,0,Cash   \n",
      "13                                          100016,0,Cash   \n",
      "14                                          100017,0,Cash   \n",
      "15                                          100018,0,Cash   \n",
      "16                                          100019,0,Cash   \n",
      "17                                          100020,0,Cash   \n",
      "18                                     100021,0,Revolving   \n",
      "19                                     100022,0,Revolving   \n",
      "20                                          100023,0,Cash   \n",
      "21                                     100024,0,Revolving   \n",
      "22                                          100025,0,Cash   \n",
      "23                                          100026,0,Cash   \n",
      "24                                          100027,0,Cash   \n",
      "25                                          100029,0,Cash   \n",
      "26                                          100030,0,Cash   \n",
      "27                                          100031,1,Cash   \n",
      "28                                          100032,0,Cash   \n",
      "29                                          100033,0,Cash   \n",
      "...                                                   ...   \n",
      "307482                                      456225,1,Cash   \n",
      "307483                                      456226,0,Cash   \n",
      "307484                                      456227,0,Cash   \n",
      "307485                                      456228,0,Cash   \n",
      "307486                                 456229,0,Revolving   \n",
      "307487                                      456230,0,Cash   \n",
      "307488                                      456231,0,Cash   \n",
      "307489                                      456232,0,Cash   \n",
      "307490                                      456233,1,Cash   \n",
      "307491                                      456234,0,Cash   \n",
      "307492                                      456235,0,Cash   \n",
      "307493                                      456236,0,Cash   \n",
      "307494                                      456237,0,Cash   \n",
      "307495                                      456238,0,Cash   \n",
      "307496                                      456239,0,Cash   \n",
      "307497                                 456240,0,Revolving   \n",
      "307498                                      456241,0,Cash   \n",
      "307499                                      456242,0,Cash   \n",
      "307500                                      456243,0,Cash   \n",
      "307501                                      456244,0,Cash   \n",
      "307502                                      456245,0,Cash   \n",
      "307503                                      456246,0,Cash   \n",
      "307504                                      456247,0,Cash   \n",
      "307505                                      456248,0,Cash   \n",
      "307506                                      456249,0,Cash   \n",
      "307507                                      456251,0,Cash   \n",
      "307508                                      456252,0,Cash   \n",
      "307509                                      456253,0,Cash   \n",
      "307510                                      456254,1,Cash   \n",
      "307511                                      456255,0,Cash   \n",
      "\n",
      "                                             EXT_SOURCE_1  \n",
      "0                                                     NaN  \n",
      "1       loans,M,N,Y,0,202500.0,406597.5,24700.5,351000...  \n",
      "2       loans,F,N,N,0,270000.0,1293502.5,35698.5,11295...  \n",
      "3       loans,M,Y,Y,0,67500.0,135000.0,6750.0,135000.0...  \n",
      "4       loans,F,N,Y,0,135000.0,312682.5,29686.5,297000...  \n",
      "5       loans,M,N,Y,0,121500.0,513000.0,21865.5,513000...  \n",
      "6       loans,M,N,Y,0,99000.0,490495.5,27517.5,454500....  \n",
      "7       loans,F,Y,Y,1,171000.0,1560726.0,41301.0,13950...  \n",
      "8       loans,M,Y,Y,0,360000.0,1530000.0,42075.0,15300...  \n",
      "9       loans,F,N,Y,0,112500.0,1019610.0,33826.5,91350...  \n",
      "10      loans,M,N,Y,0,135000.0,405000.0,20250.0,405000...  \n",
      "11      loans,F,N,Y,1,112500.0,652500.0,21177.0,652500...  \n",
      "12      loans,F,N,Y,0,38419.155,148365.0,10678.5,13500...  \n",
      "13      loans,F,N,Y,0,67500.0,80865.0,5881.5,67500.0,U...  \n",
      "14      loans,M,Y,N,1,225000.0,918468.0,28966.5,697500...  \n",
      "15      loans,F,N,Y,0,189000.0,773680.5,32778.0,679500...  \n",
      "16      loans,M,Y,Y,0,157500.0,299772.0,20160.0,247500...  \n",
      "17      loans,M,N,N,0,108000.0,509602.5,26149.5,387000...  \n",
      "18      loans,F,N,Y,1,81000.0,270000.0,13500.0,270000....  \n",
      "19      loans,F,N,Y,0,112500.0,157500.0,7875.0,157500....  \n",
      "20      loans,F,N,Y,1,90000.0,544491.0,17563.5,454500....  \n",
      "21      loans,M,Y,Y,0,135000.0,427500.0,21375.0,427500...  \n",
      "22      loans,F,Y,Y,1,202500.0,1132573.5,37561.5,92700...  \n",
      "23      loans,F,N,N,1,450000.0,497520.0,32521.5,450000...  \n",
      "24      loans,F,N,Y,0,83250.0,239850.0,23850.0,225000....  \n",
      "25      loans,M,Y,N,2,135000.0,247500.0,12703.5,247500...  \n",
      "26      loans,F,N,Y,0,90000.0,225000.0,11074.5,225000....  \n",
      "27      loans,F,N,Y,0,112500.0,979992.0,27076.5,702000...  \n",
      "28      loans,M,N,Y,1,112500.0,327024.0,23827.5,270000...  \n",
      "29      loans,M,Y,Y,0,270000.0,790830.0,57676.5,675000...  \n",
      "...                                                   ...  \n",
      "307482  loans,M,N,Y,0,225000.0,297000.0,19975.5,297000...  \n",
      "307483  loans,F,Y,Y,0,225000.0,500566.5,34969.5,472500...  \n",
      "307484  loans,F,N,Y,0,99000.0,247275.0,16479.0,225000....  \n",
      "307485  loans,F,Y,N,0,540000.0,545040.0,35617.5,450000...  \n",
      "307486  loans,F,N,Y,1,270000.0,180000.0,9000.0,180000....  \n",
      "307487  loans,F,Y,Y,1,292500.0,355536.0,18283.5,270000...  \n",
      "307488  loans,M,N,Y,0,117000.0,1071909.0,31473.0,93600...  \n",
      "307489  loans,F,N,N,0,157500.0,135000.0,13351.5,135000...  \n",
      "307490  loans,F,N,Y,0,225000.0,521280.0,23089.5,450000...  \n",
      "307491  loans,M,N,Y,0,81000.0,135000.0,9148.5,135000.0...  \n",
      "307492  loans,M,Y,Y,2,90000.0,1078200.0,31522.5,900000...  \n",
      "307493  loans,M,Y,Y,0,585000.0,1575000.0,43443.0,15750...  \n",
      "307494  loans,F,N,Y,0,135000.0,946764.0,37678.5,765000...  \n",
      "307495  loans,M,Y,N,1,270000.0,479700.0,46858.5,450000...  \n",
      "307496  loans,M,Y,N,0,180000.0,808650.0,23773.5,675000...  \n",
      "307497  loans,F,N,N,0,360000.0,337500.0,16875.0,337500...  \n",
      "307498  loans,F,Y,Y,0,180000.0,270126.0,12028.5,193500...  \n",
      "307499  loans,M,Y,Y,0,198000.0,1312110.0,52168.5,11250...  \n",
      "307500  loans,F,N,Y,0,81000.0,225000.0,12694.5,225000....  \n",
      "307501  loans,F,N,Y,0,261000.0,1303812.0,35982.0,11385...  \n",
      "307502  loans,F,N,Y,3,81000.0,269550.0,11871.0,225000....  \n",
      "307503  loans,F,N,Y,1,94500.0,225000.0,10620.0,225000....  \n",
      "307504  loans,F,N,Y,0,112500.0,345510.0,17770.5,247500...  \n",
      "307505  loans,F,N,Y,0,153000.0,331920.0,16096.5,225000...  \n",
      "307506  loans,F,N,Y,0,112500.0,225000.0,22050.0,225000...  \n",
      "307507  loans,M,N,N,0,157500.0,254700.0,27558.0,225000...  \n",
      "307508  loans,F,N,Y,0,72000.0,269550.0,12001.5,225000....  \n",
      "307509  loans,F,N,Y,0,153000.0,677664.0,29979.0,585000...  \n",
      "307510  loans,F,N,Y,0,171000.0,370107.0,20205.0,319500...  \n",
      "307511  loans,F,N,N,0,157500.0,675000.0,49117.5,675000...  \n",
      "\n",
      "[307512 rows x 2 columns]\n"
     ]
    }
   ],
   "source": [
    "df = pd.read_csv(f_app,header=None,sep=' ',names=['SK_ID_CURR','EXT_SOURCE_1'])\n",
    "print(df)"
   ]
  },
  {
   "cell_type": "markdown",
   "metadata": {},
   "source": [
    "#### 還有各種數之不盡的資料操作，重點還是取決於實務中遇到的狀況和你想問的問題，在馬拉松中我們也會陸續提到更多例子"
   ]
  },
  {
   "cell_type": "code",
   "execution_count": null,
   "metadata": {},
   "outputs": [],
   "source": []
  },
  {
   "cell_type": "code",
   "execution_count": null,
   "metadata": {},
   "outputs": [],
   "source": []
  }
 ],
 "metadata": {
  "kernelspec": {
   "display_name": "Python 3",
   "language": "python",
   "name": "python3"
  },
  "language_info": {
   "codemirror_mode": {
    "name": "ipython",
    "version": 3
   },
   "file_extension": ".py",
   "mimetype": "text/x-python",
   "name": "python",
   "nbconvert_exporter": "python",
   "pygments_lexer": "ipython3",
   "version": "3.6.8"
  }
 },
 "nbformat": 4,
 "nbformat_minor": 2
}
